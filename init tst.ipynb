{
 "cells": [
  {
   "cell_type": "code",
   "execution_count": 1,
   "metadata": {},
   "outputs": [],
   "source": [
    "import torch\n",
    "import torch.nn as nn\n",
    "import torch.nn.functional as F\n",
    "import pandas as pd\n",
    "import numpy as np\n",
    "import torchvision as ptv\n",
    "# from fastai.dataset import *\n",
    "# from fastai.conv_learner import *\n",
    "from torch.utils.data import DataLoader\n",
    "from torchvision.datasets import MNIST\n",
    "from utils.blocks import *\n",
    "from utils.clr import *\n",
    "\n",
    "from collections import OrderedDict\n",
    "from pathlib import Path"
   ]
  },
  {
   "cell_type": "code",
   "execution_count": 5,
   "metadata": {},
   "outputs": [],
   "source": [
    "from utils.clr import *"
   ]
  },
  {
   "cell_type": "code",
   "execution_count": 5,
   "metadata": {},
   "outputs": [
    {
     "name": "stdout",
     "output_type": "stream",
     "text": [
      "Parameter containing:\n",
      "tensor([[[[ 0.2019,  0.2098],\n",
      "          [ 0.1839,  0.0631]],\n",
      "\n",
      "         [[-0.1454, -0.1618],\n",
      "          [-0.2228, -0.0100]],\n",
      "\n",
      "         [[-0.1424,  0.0265],\n",
      "          [-0.0214, -0.1649]],\n",
      "\n",
      "         [[-0.1471, -0.1389],\n",
      "          [-0.0770, -0.1010]],\n",
      "\n",
      "         [[-0.1562,  0.1808],\n",
      "          [ 0.1907, -0.1445]]],\n",
      "\n",
      "\n",
      "        [[[-0.0874, -0.1631],\n",
      "          [-0.0662, -0.1067]],\n",
      "\n",
      "         [[-0.0018,  0.1381],\n",
      "          [ 0.1810, -0.1307]],\n",
      "\n",
      "         [[-0.0820, -0.1465],\n",
      "          [ 0.2043, -0.1379]],\n",
      "\n",
      "         [[-0.1140, -0.2002],\n",
      "          [-0.1972, -0.1911]],\n",
      "\n",
      "         [[ 0.0377, -0.0975],\n",
      "          [ 0.1552, -0.1103]]]])\n"
     ]
    }
   ],
   "source": [
    "conv1 = StdConv(5,2,2)\n",
    "print(conv1.conv.weight)\n"
   ]
  },
  {
   "cell_type": "code",
   "execution_count": 6,
   "metadata": {},
   "outputs": [
    {
     "data": {
      "text/plain": [
       "Parameter containing:\n",
       "tensor([[[[ 0.1925,  0.1186],\n",
       "          [ 0.1528,  0.5684]],\n",
       "\n",
       "         [[-0.1657,  0.0894],\n",
       "          [-0.0124,  0.2045]],\n",
       "\n",
       "         [[ 0.0029,  0.2771],\n",
       "          [ 0.2683,  0.2122]],\n",
       "\n",
       "         [[-0.0188, -0.2025],\n",
       "          [-0.0631, -0.0876]],\n",
       "\n",
       "         [[ 0.1170,  0.0883],\n",
       "          [-0.0607, -0.0678]]],\n",
       "\n",
       "\n",
       "        [[[-0.1716,  0.4934],\n",
       "          [-0.0891, -0.1543]],\n",
       "\n",
       "         [[-0.5564, -0.4111],\n",
       "          [-0.1078, -0.4800]],\n",
       "\n",
       "         [[ 0.0467, -0.2365],\n",
       "          [ 0.2285,  0.5127]],\n",
       "\n",
       "         [[-0.5233,  0.0475],\n",
       "          [-0.0206, -0.0488]],\n",
       "\n",
       "         [[-0.3283,  0.2143],\n",
       "          [-0.0906,  0.9537]]]])"
      ]
     },
     "execution_count": 6,
     "metadata": {},
     "output_type": "execute_result"
    }
   ],
   "source": [
    "torch.nn.init.xavier_normal_(conv1.conv.weight)"
   ]
  },
  {
   "cell_type": "code",
   "execution_count": null,
   "metadata": {},
   "outputs": [],
   "source": []
  }
 ],
 "metadata": {
  "kernelspec": {
   "display_name": "Python 3",
   "language": "python",
   "name": "python3"
  },
  "language_info": {
   "codemirror_mode": {
    "name": "ipython",
    "version": 3
   },
   "file_extension": ".py",
   "mimetype": "text/x-python",
   "name": "python",
   "nbconvert_exporter": "python",
   "pygments_lexer": "ipython3",
   "version": "3.6.4"
  }
 },
 "nbformat": 4,
 "nbformat_minor": 2
}
