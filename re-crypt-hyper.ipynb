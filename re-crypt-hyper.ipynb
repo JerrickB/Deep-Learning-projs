{
 "cells": [
  {
   "cell_type": "code",
   "execution_count": 1,
   "metadata": {},
   "outputs": [],
   "source": [
    "#https://www.youtube.com/watch?v=ne-dpRdNReI\n",
    "import torch\n",
    "import torch.nn as nn\n",
    "from torch.autograd import Variable\n",
    "import torch.nn.functional as F\n",
    "import pandas as pd\n",
    "import numpy as np\n",
    "from pathlib import Path\n",
    "from sklearn import preprocessing\n",
    "from collections import deque, OrderedDict\n",
    "import random\n",
    "import fastai\n",
    "from fastai.structured import add_datepart\n",
    "from fastai.dataloader import *\n",
    "from utils.pydataset import *\n",
    "from utils.blocks import *\n",
    "from utils.clr import *\n",
    "\n",
    "from datetime import time\n",
    "\n",
    "import matplotlib.pyplot as plt\n",
    "from scipy import signal\n",
    "%matplotlib inline\n",
    "# from fastai.old.fastai.column_data import *\n",
    "# from fastai.metrics import accuracy"
   ]
  },
  {
   "cell_type": "code",
   "execution_count": 2,
   "metadata": {
    "scrolled": true
   },
   "outputs": [
    {
     "name": "stdout",
     "output_type": "stream",
     "text": [
      "True\n"
     ]
    }
   ],
   "source": [
    "use_cuda = torch.cuda.is_available(); print(use_cuda)\n",
    "device = torch.device(\"cuda:0\" if use_cuda else \"cpu\")\n",
    "torch.backends.cudnn.benchmark = True\n",
    "CUDA_LAUNCH_BLOCKING=1"
   ]
  },
  {
   "cell_type": "code",
   "execution_count": 41,
   "metadata": {},
   "outputs": [],
   "source": [
    "PATH = Path(\"../data\")\n",
    "sets = [\"BTC-USD\", \"BCH-USD\", \"ETH-USD\", \"LTC-USD\"]\n",
    "wash = True                #Prep raw dataset =False\n",
    "time = True                #Time as var =False\n",
    "one_hot = True\n",
    "base = 'gru'"
   ]
  },
  {
   "cell_type": "code",
   "execution_count": 4,
   "metadata": {},
   "outputs": [],
   "source": [
    "seq_len = 30 #transactions prior to prediction point\n",
    "pred_period = 2 #minutes ahead to predict \n",
    "pred_ratio = \"LTC-USD\"\n",
    "val_pct = .1\n",
    "bs = 10\n",
    "epochs = 20"
   ]
  },
  {
   "cell_type": "code",
   "execution_count": 48,
   "metadata": {},
   "outputs": [],
   "source": [
    "def one_ht(targ):\n",
    "    if targ == 0:\n",
    "        return np.array((targ,1))\n",
    "    elif targ ==1:\n",
    "        return np.array((targ,0))\n",
    "\n",
    "def prep_df(df, one_hot=False):\n",
    "    df = df.copy().drop(\"future\",1)\n",
    "    \n",
    "    for col in df.columns.tolist()[13:]:\n",
    "        if col != \"target\" and col != f'{col}_close':\n",
    "            df[col] = df[col].pct_change()\n",
    "            df.dropna(inplace=True)\n",
    "            df[col] = preprocessing.scale(df[col].values)\n",
    "    sequential_data = []\n",
    "    prev_period = deque(maxlen=seq_len)\n",
    "    buys = []\n",
    "    sells = []\n",
    "    for i in df.values:\n",
    "        prev_period.append(i[:-1])\n",
    "        if len(prev_period) == seq_len:\n",
    "#             sequential_data.append([np.array(prev_period), i[-1]])\n",
    "            if i[-1] == 0:\n",
    "                sells.append([np.array(prev_period),np.array(i[-1])])\n",
    "            elif i[-1] == 1:\n",
    "                buys.append([np.array(prev_period),np.array(i[-1])])\n",
    "    print(len(buys),len(sells))\n",
    "    lower = min(len(buys), len(sells))\n",
    "    buys = buys[:lower-1]\n",
    "    sells = sells[:lower-1]\n",
    "    balanced = buys+sells\n",
    "    random.shuffle(balanced)\n",
    "    data = OrderedDict()\n",
    "    labels = OrderedDict()\n",
    "    for i, (seq, targ) in enumerate(balanced):\n",
    "        data[i] = seq\n",
    "        if one_hot:\n",
    "            labels[i] = one_ht(targ)\n",
    "        else:\n",
    "            labels[i] = targ\n",
    "    print(f\"Total: {len(balanced)}, Buys: {len(buys)}, Sells: {len(sells)}\")\n",
    "    \n",
    "    return data, labels\n",
    "\n",
    "def classify(current, future):\n",
    "    if float(future) > float(current):\n",
    "        return 1\n",
    "    else:\n",
    "        return 0"
   ]
  },
  {
   "cell_type": "code",
   "execution_count": 49,
   "metadata": {
    "scrolled": true
   },
   "outputs": [
    {
     "name": "stdout",
     "output_type": "stream",
     "text": [
      "31884 45586\n",
      "Total: 63766, Buys: 31883, Sells: 31883\n",
      "3474 5101\n",
      "Total: 6946, Buys: 3473, Sells: 3473\n"
     ]
    }
   ],
   "source": [
    "if wash:\n",
    "    df_s = [pd.read_csv(PATH / f\"{s}.csv\",\n",
    "                        names = [\"time\",\"low\",\"high\",\"open\",f\"{s}_close\",f\"{s}_volume\"],\n",
    "                        index_col=[\"time\"])\n",
    "                .drop([\"low\",\"high\",\"open\"], axis=1) for s in sets]\n",
    "\n",
    "    \n",
    "    df_m = pd.concat(df_s, axis=1, join=\"inner\")\n",
    "    if time:\n",
    "        df_m.reset_index(inplace=True)\n",
    "        df_m['time'] = df_m['time'].apply(datetime.datetime.fromtimestamp)\n",
    "        add_datepart(df_m,'time')\n",
    "        l = [df_m.columns.tolist()[i] for i in [*range(9,21,1),*range(8)]]\n",
    "        df_m = df_m.reindex(l, axis=1)\n",
    "        time = 'time'\n",
    "    else:\n",
    "        time = 'proc'\n",
    "    [df_m[col].replace(False, 0, inplace=True) for col in df_m.columns.tolist()]\n",
    "    [df_m[col].replace(True, 1, inplace=True) for col in df_m.columns.tolist()]\n",
    "    df_m[\"future\"] = df_m[f\"{pred_ratio}_close\"].shift(-pred_period)\n",
    "    df_m[\"future\"].fillna(method=\"ffill\",inplace=True)\n",
    "    df_m[\"target\"] = list(map(classify,df_m[f\"{pred_ratio}_close\"],df_m[\"future\"]))\n",
    "    if base == '1dsplit':\n",
    "        l = [*range(12),*range(12,20,2),*range(13,20,2),20,21]\n",
    "        l = [df_m.columns.tolist()[i] for i in l]\n",
    "        df_m = df_m.reindex(l, axis=1)\n",
    "#     df_m.sort_index(inplace=True)\n",
    "    val_idx = int(len(df_m) * val_pct)\n",
    "    df_v = df_m.iloc[-val_idx:].copy()\n",
    "    df_t = df_m.iloc[:-val_idx].copy()\n",
    "    \n",
    "    train_x, train_y = prep_df(df_t,one_hot)\n",
    "    val_x, val_y = prep_df(df_v,one_hot)\n",
    "    \n",
    "#     qdf = pd.DataFrame([train_x, train_y]).T\n",
    "#     qdf.to_pickle(PATH / f'T_{time}_crypto_{base}_{seq_len}_{val_pct * 100}.pkl')\n",
    "#     qdf = pd.DataFrame([val_x, val_y]).T\n",
    "#     qdf.to_pickle(PATH / f'V_{time}_crypto_{base}_{seq_len}_{val_pct * 100}.pkl')\n",
    "else:\n",
    "    if time:\n",
    "        time = 'time'\n",
    "    else:\n",
    "        time = 'proc'\n",
    "    df_t= pd.read_pickle(PATH / f'T_{time}_crypto_{seq_len}_{val_pct * 100}.pkl')\n",
    "    train_x = df_t.loc[:,0].to_dict(OrderedDict)\n",
    "    train_y = df_t.loc[:,1].to_dict(OrderedDict)\n",
    "    df_v =pd.read_pickle(PATH / f'V_{time}_crypto_{seq_len}_{val_pct * 100}.pkl') \n",
    "    val_x = df_v.loc[:,0].to_dict(OrderedDict)\n",
    "    val_y = df_v.loc[:,1].to_dict(OrderedDict)"
   ]
  },
  {
   "cell_type": "code",
   "execution_count": 50,
   "metadata": {},
   "outputs": [
    {
     "data": {
      "text/plain": [
       "array([ 0.,  1.])"
      ]
     },
     "execution_count": 50,
     "metadata": {},
     "output_type": "execute_result"
    }
   ],
   "source": [
    "train_y[0]"
   ]
  },
  {
   "cell_type": "code",
   "execution_count": 12,
   "metadata": {
    "scrolled": true
   },
   "outputs": [],
   "source": [
    "class Dataset(data.Dataset):\n",
    "    def __init__(self, data, labels):\n",
    "        super().__init__()\n",
    "        self.data = data\n",
    "        self.labels = labels\n",
    "        \n",
    "    def __len__(self):\n",
    "        return len(self.data)\n",
    "    \n",
    "    def __getitem__(self, idx):\n",
    "        return self.data[idx], self.labels[idx]"
   ]
  },
  {
   "cell_type": "code",
   "execution_count": 51,
   "metadata": {},
   "outputs": [],
   "source": [
    "trn_ds = Dataset(train_x, train_y)\n",
    "val_ds = Dataset(val_x, val_y)\n",
    "\n",
    "trn_dl = DataLoader(trn_ds, batch_size=bs)\n",
    "val_dl = DataLoader(val_ds, batch_size=bs)"
   ]
  },
  {
   "cell_type": "code",
   "execution_count": 9,
   "metadata": {},
   "outputs": [],
   "source": [
    "# class GRU(nn.Module):\n",
    "#     def __init__(self, h_dim, out_size):\n",
    "#         super(GRU, self).__init__()\n",
    "        \n",
    "#         self.h_dim = h_dim\n",
    "#         self.out_sz = out_size\n",
    "        \n",
    "#         self.gru = nn.GRU(8, self.h_dim)\n",
    "#         self._lin1 = nn.Linear(self.h_dim * seq_len, self.out_sz)\n",
    "        \n",
    "#     def forward(self, input):\n",
    "#         hidden = self.initHidden(input.shape[1])\n",
    "#         _, hn = self.gru(input, hidden)\n",
    "#         ## from (1, N, hidden) to (N, hidden)\n",
    "#         rearranged = hn.view(bs, -1)\n",
    "#         out1 = self._lin1(rearranged)\n",
    "#         return out1\n",
    "        \n",
    "#     def initHidden(self, N):\n",
    "#         return Variable(torch.randn(1, N, self.h_dim))"
   ]
  },
  {
   "cell_type": "code",
   "execution_count": 167,
   "metadata": {},
   "outputs": [
    {
     "data": {
      "text/plain": [
       "20"
      ]
     },
     "execution_count": 167,
     "metadata": {},
     "output_type": "execute_result"
    }
   ],
   "source": []
  },
  {
   "cell_type": "code",
   "execution_count": 169,
   "metadata": {},
   "outputs": [],
   "source": [
    "class StdConv1d(nn.Module):\n",
    "    def __init__(self, nin, nout, n_layers=1, kern=3,\n",
    "                 stri=1, pad=0, groups=1, bias=True, batch_first=True, loud=False):\n",
    "        super(StdConv1d,self).__init__()\n",
    "        self.batch_first = batch_first\n",
    "        self.loud = loud\n",
    "        layers = []\n",
    "        in_chan = nin\n",
    "        if n_layers > 1:\n",
    "            for i in range(n_layers-1):\n",
    "                out_chan = in_chan//(i+1)\n",
    "                layers.append(nn.Conv1d(in_chan, out_chan, kern, stri, pad, groups=groups, bias=bias))\n",
    "                layers.append(nn.Dropout(.1))\n",
    "                in_chan = out_chan\n",
    "                if loud: print(out_chan)\n",
    "        layers.append(nn.Conv1d(in_chan, nout, kern, stri, pad, bias=bias))\n",
    "        self.convs = nn.ModuleList(layers)\n",
    "        \n",
    "    def forward(self, x):\n",
    "        if self.batch_first:\n",
    "            x = x.permute(0,2,1)\n",
    "            \n",
    "        for lay in self.convs:\n",
    "            x = lay(x)\n",
    "            if self.loud: print(x.shape)\n",
    "        \n",
    "        return x\n",
    "            "
   ]
  },
  {
   "cell_type": "code",
   "execution_count": 257,
   "metadata": {},
   "outputs": [
    {
     "data": {
      "text/plain": [
       "torch.Size([1, 20, 64])"
      ]
     },
     "execution_count": 257,
     "metadata": {},
     "output_type": "execute_result"
    }
   ],
   "source": [
    "batch, ys = next(iter(trn_dl))\n",
    "# h = (Variable(torch.zeros(1, bs, 64)),\n",
    "#           Variable(torch.zeros(1,bs, 64)))\n",
    "# print(batch.shape)\n",
    "tst1 = nn.LSTM(8, 64, 1, batch_first=True)\n",
    "# tst1 = StdConv1d(8,64, pad=1,groups=2)\n",
    "x, h = tst1(Variable(batch.float()))\n",
    "# print(h[0].view(bs,-1).shape)\n",
    "h[0].shape"
   ]
  },
  {
   "cell_type": "code",
   "execution_count": 52,
   "metadata": {},
   "outputs": [],
   "source": [
    "class Cryptkeeper(nn.Module):\n",
    "    def __init__(self, n_layers, h_dim,\n",
    "                 n_sub=2, base='gru', sub='lin'):\n",
    "        super(Cryptkeeper, self).__init__()\n",
    "        self.start_dim = self.h_dim = h_dim\n",
    "        self.n_layers = n_layers\n",
    "        self.base = base\n",
    "        self.sub = sub\n",
    "        self.n_sub = n_sub\n",
    "        self.nin = len(df_m.columns.tolist())-2\n",
    "        self.nout = 1\n",
    "        if one_hot:\n",
    "            self.nout = 2\n",
    "        \n",
    "        assert base in ['gru', 'lstm', '1dsplit']\n",
    "        assert sub in ['lin', '1d']\n",
    "        \n",
    "        if base == 'gru':\n",
    "            self.gru = nn.GRU(self.nin, h_dim, n_layers, bias=False,batch_first=True)\n",
    "            self.h_dim = h_dim * self.n_layers\n",
    "            \n",
    "        elif base == 'lstm':\n",
    "            self.lstm = nn.LSTM(self.nin, h_dim, n_layers, batch_first=True)\n",
    "            self.h_dim = h_dim * self.n_layers\n",
    "            \n",
    "            \n",
    "        elif base == '1dsplit':       #1d split vision, groups=2\n",
    "            self.primes = StdConv1d(self.nin, h_dim, n_layers,groups=2, pad=1)\n",
    "            if sub != '1d': self.h_dim = seq_len * h_dim\n",
    "        \n",
    "        if sub == 'lin':\n",
    "            layers = []\n",
    "            in_chan = self.h_dim\n",
    "            for i in range(n_sub-1):\n",
    "                if n_sub < 3:\n",
    "                    out_chan = in_chan//(i+2)\n",
    "                else:\n",
    "                    out_chan = in_chan//(i+1)\n",
    "                layers.append(StdLinear(in_chan, out_chan))\n",
    "                in_chan = out_chan\n",
    "            \n",
    "            layers.append(nn.Linear(in_chan, self.nout))\n",
    "            self.subs = nn.ModuleList(layers)\n",
    "        \n",
    "            \n",
    "        elif sub == '1d':\n",
    "            if base=='1dsplit': \n",
    "                lin_dim = self.h_dim * seq_len\n",
    "            else:\n",
    "                lin_dim = self.start_dim * n_layers\n",
    "            self.subs = nn.ModuleList([StdConv1d(self.h_dim, self.start_dim, n_sub, pad=1, batch_first=False),\n",
    "                         nn.Linear(lin_dim,self.nout)])\n",
    "\n",
    "    def forward(self, x):        \n",
    "        h = self._init_hidden(x)\n",
    "        if self.base == 'gru':\n",
    "            n = x.size()[0]\n",
    "            x, h = self.gru(x, h[0])\n",
    "#             print(h.shape)\n",
    "            if self.sub == '1d':\n",
    "                x = x.permute(1,2,0)\n",
    "            else:\n",
    "                x = h.permute(1,0,2)\n",
    "#                 print(x.shape)\n",
    "                x = x.contiguous().view(n, -1)\n",
    "                \n",
    "            \n",
    "        elif self.base == 'lstm':\n",
    "            x, h = self.lstm(x, h)\n",
    "            if self.sub =='1d':\n",
    "                x = h[0].permute(1,2,0)\n",
    "                \n",
    "            else:\n",
    "                x = h[0].view(x.size()[0], -1)\n",
    " \n",
    "        elif self.base == '1dsplit':\n",
    "            x = self.primes(x)\n",
    "            if self.sub != '1d':\n",
    "                x = x.view(x.size()[0],-1)\n",
    "        \n",
    "        if self.sub != '1d':\n",
    "            \n",
    "            for lay in self.subs:\n",
    "                x = lay(x)\n",
    "                \n",
    "        else:\n",
    "            x = self.subs[0](x)\n",
    "#             print(x.shape)\n",
    "            x = x.view(x.size()[0], -1)\n",
    "#             print(x.shape)\n",
    "            x = self.subs[1](x)\n",
    "        if  one_hot:\n",
    "            return F.softmax(x)\n",
    "        else:\n",
    "            return F.sigmoid(x)\n",
    "    \n",
    "    def _init_hidden(self, x):\n",
    "        return (Variable(torch.randn(self.n_layers, x.size()[0], self.start_dim)),\n",
    "                Variable(torch.randn(self.n_layers, x.size()[0], self.start_dim)))"
   ]
  },
  {
   "cell_type": "code",
   "execution_count": 15,
   "metadata": {},
   "outputs": [],
   "source": [
    "def append_stats(ep_vals, epoch, values, decimals=6):\n",
    "    ep_vals[epoch]=list(np.round(values, decimals))\n",
    "    return ep_vals\n",
    "\n",
    "def print_stats(epoch, values, decimals=3):\n",
    "    layout = \"{!s:^10}\" + \" {!s:10}\" * len(values)\n",
    "    values = [epoch] + list(np.round(values, decimals))\n",
    "    print(layout.format(*values))\n",
    "    \n",
    "def accuracy(input, targs):\n",
    "    \"Compute accuracy with `targs` when `input` is bs * n_classes.\"\n",
    "    n = targs.shape[0]\n",
    "    input = input.argmax(dim=1).view(n,-1)\n",
    "    targs = targs.view(n,-1)\n",
    "    return (input==targs).float().mean()\n",
    "# from fastai.metrics import accuracy\n",
    "\n",
    "\n",
    "# names = [\"ep / it\",\"trn_loss\",\"val_loss\"]\n",
    "names = [\"ep / it\", \"trn_loss\",\"lwst_trn\",\"val_loss\",\"accuracy\"]\n",
    "layout = \"{!s:10} \" * len(names)"
   ]
  },
  {
   "cell_type": "code",
   "execution_count": 71,
   "metadata": {},
   "outputs": [],
   "source": [
    "net = Cryptkeeper(2,128,n_sub=2,base='gru')\n",
    "\n",
    "use_cuda=False\n",
    "if use_cuda:\n",
    "    net.cuda()\n",
    "    dtype = torch.cuda.FloatTensor\n",
    "else:\n",
    "    dtype = torch.FloatTensor\n",
    "    \n",
    "lr = 2e-5\n",
    "\n",
    "optim = torch.optim.Adam(net.parameters(), lr=lr)\n",
    "# loss = nn.MSELoss()\n",
    "loss = nn.BCELoss()\n",
    "\n",
    "scheduler = CyclicLR(optim, lr, mode='triangular2', step_size=len(trn_ds)*2)"
   ]
  },
  {
   "cell_type": "code",
   "execution_count": 64,
   "metadata": {},
   "outputs": [
    {
     "name": "stderr",
     "output_type": "stream",
     "text": [
      "/home/paperspace/anaconda3/envs/fastai/lib/python3.6/site-packages/ipykernel_launcher.py:93: UserWarning: Implicit dimension choice for softmax has been deprecated. Change the call to include dim=X as an argument.\n"
     ]
    },
    {
     "data": {
      "text/plain": [
       "[(tensor([ 0.5185,  0.4815]), tensor([ 1.,  0.])),\n",
       " (tensor([ 0.5185,  0.4815]), tensor([ 1.,  0.])),\n",
       " (tensor([ 0.5185,  0.4815]), tensor([ 1.,  0.])),\n",
       " (tensor([ 0.5185,  0.4815]), tensor([ 0.,  1.])),\n",
       " (tensor([ 0.5185,  0.4815]), tensor([ 0.,  1.])),\n",
       " (tensor([ 0.5185,  0.4815]), tensor([ 0.,  1.])),\n",
       " (tensor([ 0.5185,  0.4815]), tensor([ 1.,  0.])),\n",
       " (tensor([ 0.5185,  0.4815]), tensor([ 1.,  0.])),\n",
       " (tensor([ 0.5185,  0.4815]), tensor([ 1.,  0.])),\n",
       " (tensor([ 0.5185,  0.4815]), tensor([ 1.,  0.]))]"
      ]
     },
     "execution_count": 64,
     "metadata": {},
     "output_type": "execute_result"
    }
   ],
   "source": [
    "val_it = iter(val_dl)\n",
    "v_bat, v_ys = next(val_it)                \n",
    "v_bat = Variable(v_bat.type(dtype))\n",
    "v_ys = Variable(v_ys.type(dtype))\n",
    "net.eval()\n",
    "with torch.no_grad():\n",
    "    v = net(v_bat)\n",
    "list(zip(v,v_ys))\n",
    "# accuracy(v,v_ys.long())\n",
    "# v.shape\n",
    "# v.argmax(dim=1)"
   ]
  },
  {
   "cell_type": "code",
   "execution_count": 54,
   "metadata": {
    "collapsed": true
   },
   "outputs": [
    {
     "ename": "RuntimeError",
     "evalue": "Error(s) in loading state_dict for Cryptkeeper:\n\tMissing key(s) in state_dict: \"gru.weight_ih_l3\", \"gru.weight_hh_l3\", \"gru.weight_ih_l4\", \"gru.weight_hh_l4\", \"subs.0.convs.2.weight\", \"subs.0.convs.2.bias\". \n\tWhile copying the parameter named \"subs.1.weight\", whose dimensions in the model are torch.Size([1, 320]) and whose dimensions in the checkpoint are torch.Size([1, 192]).",
     "output_type": "error",
     "traceback": [
      "\u001b[0;31m---------------------------------------------------------------------------\u001b[0m",
      "\u001b[0;31mRuntimeError\u001b[0m                              Traceback (most recent call last)",
      "\u001b[0;32m<ipython-input-54-6fae43347b7d>\u001b[0m in \u001b[0;36m<module>\u001b[0;34m()\u001b[0m\n\u001b[1;32m      5\u001b[0m \u001b[0;31m#     for key in keys:\u001b[0m\u001b[0;34m\u001b[0m\u001b[0;34m\u001b[0m\u001b[0m\n\u001b[1;32m      6\u001b[0m \u001b[0;31m#         del checkpoint['state_dict'][key]\u001b[0m\u001b[0;34m\u001b[0m\u001b[0;34m\u001b[0m\u001b[0m\n\u001b[0;32m----> 7\u001b[0;31m \u001b[0mnet\u001b[0m\u001b[0;34m.\u001b[0m\u001b[0mload_state_dict\u001b[0m\u001b[0;34m(\u001b[0m\u001b[0mcheckpoint\u001b[0m\u001b[0;34m[\u001b[0m\u001b[0;34m'state_dict'\u001b[0m\u001b[0;34m]\u001b[0m\u001b[0;34m)\u001b[0m\u001b[0;34m\u001b[0m\u001b[0m\n\u001b[0m\u001b[1;32m      8\u001b[0m \u001b[0moptim\u001b[0m\u001b[0;34m.\u001b[0m\u001b[0mload_state_dict\u001b[0m\u001b[0;34m(\u001b[0m\u001b[0mcheckpoint\u001b[0m\u001b[0;34m[\u001b[0m\u001b[0;34m'optimizer'\u001b[0m\u001b[0;34m]\u001b[0m\u001b[0;34m)\u001b[0m\u001b[0;34m\u001b[0m\u001b[0m\n\u001b[1;32m      9\u001b[0m \u001b[0mscheduler\u001b[0m\u001b[0;34m.\u001b[0m\u001b[0mload_dict\u001b[0m\u001b[0;34m(\u001b[0m\u001b[0mcheckpoint\u001b[0m\u001b[0;34m[\u001b[0m\u001b[0;34m'scheduler'\u001b[0m\u001b[0;34m]\u001b[0m\u001b[0;34m)\u001b[0m\u001b[0;34m\u001b[0m\u001b[0m\n",
      "\u001b[0;32m~/anaconda3/envs/fastai/lib/python3.6/site-packages/torch/nn/modules/module.py\u001b[0m in \u001b[0;36mload_state_dict\u001b[0;34m(self, state_dict, strict)\u001b[0m\n\u001b[1;32m    719\u001b[0m         \u001b[0;32mif\u001b[0m \u001b[0mlen\u001b[0m\u001b[0;34m(\u001b[0m\u001b[0merror_msgs\u001b[0m\u001b[0;34m)\u001b[0m \u001b[0;34m>\u001b[0m \u001b[0;36m0\u001b[0m\u001b[0;34m:\u001b[0m\u001b[0;34m\u001b[0m\u001b[0m\n\u001b[1;32m    720\u001b[0m             raise RuntimeError('Error(s) in loading state_dict for {}:\\n\\t{}'.format(\n\u001b[0;32m--> 721\u001b[0;31m                                self.__class__.__name__, \"\\n\\t\".join(error_msgs)))\n\u001b[0m\u001b[1;32m    722\u001b[0m \u001b[0;34m\u001b[0m\u001b[0m\n\u001b[1;32m    723\u001b[0m     \u001b[0;32mdef\u001b[0m \u001b[0mparameters\u001b[0m\u001b[0;34m(\u001b[0m\u001b[0mself\u001b[0m\u001b[0;34m)\u001b[0m\u001b[0;34m:\u001b[0m\u001b[0;34m\u001b[0m\u001b[0m\n",
      "\u001b[0;31mRuntimeError\u001b[0m: Error(s) in loading state_dict for Cryptkeeper:\n\tMissing key(s) in state_dict: \"gru.weight_ih_l3\", \"gru.weight_hh_l3\", \"gru.weight_ih_l4\", \"gru.weight_hh_l4\", \"subs.0.convs.2.weight\", \"subs.0.convs.2.bias\". \n\tWhile copying the parameter named \"subs.1.weight\", whose dimensions in the model are torch.Size([1, 320]) and whose dimensions in the checkpoint are torch.Size([1, 192])."
     ]
    }
   ],
   "source": [
    "# checkpoint = torch.load(PATH / f\"checks/Cryptkeeper_{net.base}_{net.sub}_{net.n_layers}x{net.start_dim}_clr.pth.tar\")\n",
    "# checkpoint = torch.load(PATH / f'checks/Cryptkeeper_lstm_5x320_clr.pth.tar')\n",
    "# if not net.gru.bias:\n",
    "#     keys = [ \"gru.bias_ih_l0\", \"gru.bias_hh_l0\", \"gru.bias_ih_l1\", \"gru.bias_hh_l1\"]\n",
    "#     for key in keys:\n",
    "#         del checkpoint['state_dict'][key]\n",
    "# net.load_state_dict(checkpoint['state_dict'])\n",
    "# optim.load_state_dict(checkpoint['optimizer'])\n",
    "# scheduler.load_dict(checkpoint['scheduler'])"
   ]
  },
  {
   "cell_type": "code",
   "execution_count": null,
   "metadata": {},
   "outputs": [],
   "source": [
    "def save_checkpoint(name, is_best):\n",
    "    filename =f\"{name}_{net.base}_{net.sub}_{net.n_layers}x{net.start_dim}_clr.pth.tar\"\n",
    "    state = {'epoch': epochs,\n",
    "            'last_epoch': epoch,\n",
    "            'arch': filename,\n",
    "            'state_dict': net.state_dict(),\n",
    "            'losses': [t_ls,v_ls],\n",
    "            'optimizer': optim.state_dict(),\n",
    "            'scheduler': scheduler.__dict__}\n",
    "\n",
    "    torch.save(state,  f'./data/checks/{filename}')\n",
    "    if is_best:\n",
    "        shutil.copyfile(filename, 'model_best.pth.tar')\n",
    "    print('Checkpoint saved.')"
   ]
  },
  {
   "cell_type": "code",
   "execution_count": 72,
   "metadata": {},
   "outputs": [],
   "source": [
    "t_ls = []\n",
    "v_ls = []\n",
    "accs = []\n",
    "ep_vals = OrderedDict()\n",
    "window = 500"
   ]
  },
  {
   "cell_type": "code",
   "execution_count": 73,
   "metadata": {
    "scrolled": true
   },
   "outputs": [
    {
     "name": "stdout",
     "output_type": "stream",
     "text": [
      "ep / it    trn_loss   lwst_trn   val_loss   accuracy   \n"
     ]
    },
    {
     "name": "stderr",
     "output_type": "stream",
     "text": [
      "/home/paperspace/anaconda3/envs/fastai/lib/python3.6/site-packages/ipykernel_launcher.py:93: UserWarning: Implicit dimension choice for softmax has been deprecated. Change the call to include dim=X as an argument.\n"
     ]
    },
    {
     "name": "stdout",
     "output_type": "stream",
     "text": [
      "  1 / 1    0.661      0.661      0.7282     0.5       \n",
      " 1 / 501   0.6972     0.6136     0.7185     0.5       \n",
      " 1 / 1001  0.6948     0.61       0.6984     0.5       \n",
      " 1 / 1501  0.6955     0.6293     0.7493     0.5       \n",
      " 1 / 2001  0.6967     0.6224     0.7082     0.5       \n",
      " 1 / 2501  0.6953     0.6368     0.7136     0.5       \n",
      " 1 / 3001  0.6943     0.6237     0.7042     0.5       \n",
      " 1 / 3501  0.6943     0.6402     0.6725     0.5       \n",
      " 1 / 4001  0.6947     0.6454     0.6987     0.5       \n"
     ]
    },
    {
     "ename": "KeyboardInterrupt",
     "evalue": "",
     "output_type": "error",
     "traceback": [
      "\u001b[0;31m---------------------------------------------------------------------------\u001b[0m",
      "\u001b[0;31mKeyboardInterrupt\u001b[0m                         Traceback (most recent call last)",
      "\u001b[0;32m<ipython-input-73-1eba6ac8412e>\u001b[0m in \u001b[0;36m<module>\u001b[0;34m()\u001b[0m\n\u001b[1;32m     13\u001b[0m             \u001b[0mls\u001b[0m \u001b[0;34m=\u001b[0m \u001b[0mloss\u001b[0m\u001b[0;34m(\u001b[0m\u001b[0mpred\u001b[0m\u001b[0;34m,\u001b[0m \u001b[0mtorch\u001b[0m\u001b[0;34m.\u001b[0m\u001b[0munsqueeze\u001b[0m\u001b[0;34m(\u001b[0m\u001b[0mys\u001b[0m\u001b[0;34m,\u001b[0m \u001b[0mdim\u001b[0m\u001b[0;34m=\u001b[0m\u001b[0;36m1\u001b[0m\u001b[0;34m)\u001b[0m\u001b[0;34m)\u001b[0m\u001b[0;34m\u001b[0m\u001b[0m\n\u001b[1;32m     14\u001b[0m         \u001b[0moptim\u001b[0m\u001b[0;34m.\u001b[0m\u001b[0mzero_grad\u001b[0m\u001b[0;34m(\u001b[0m\u001b[0;34m)\u001b[0m\u001b[0;34m\u001b[0m\u001b[0m\n\u001b[0;32m---> 15\u001b[0;31m         \u001b[0mls\u001b[0m\u001b[0;34m.\u001b[0m\u001b[0mbackward\u001b[0m\u001b[0;34m(\u001b[0m\u001b[0;34m)\u001b[0m\u001b[0;34m\u001b[0m\u001b[0m\n\u001b[0m\u001b[1;32m     16\u001b[0m         \u001b[0mt_ls\u001b[0m\u001b[0;34m.\u001b[0m\u001b[0mappend\u001b[0m\u001b[0;34m(\u001b[0m\u001b[0mls\u001b[0m\u001b[0;34m.\u001b[0m\u001b[0mitem\u001b[0m\u001b[0;34m(\u001b[0m\u001b[0;34m)\u001b[0m\u001b[0;34m)\u001b[0m\u001b[0;34m\u001b[0m\u001b[0m\n\u001b[1;32m     17\u001b[0m         \u001b[0moptim\u001b[0m\u001b[0;34m.\u001b[0m\u001b[0mstep\u001b[0m\u001b[0;34m(\u001b[0m\u001b[0;34m)\u001b[0m\u001b[0;34m\u001b[0m\u001b[0m\n",
      "\u001b[0;32m~/anaconda3/envs/fastai/lib/python3.6/site-packages/torch/tensor.py\u001b[0m in \u001b[0;36mbackward\u001b[0;34m(self, gradient, retain_graph, create_graph)\u001b[0m\n\u001b[1;32m     91\u001b[0m                 \u001b[0mproducts\u001b[0m\u001b[0;34m.\u001b[0m \u001b[0mDefaults\u001b[0m \u001b[0mto\u001b[0m\u001b[0;31m \u001b[0m\u001b[0;31m`\u001b[0m\u001b[0;31m`\u001b[0m\u001b[0;32mFalse\u001b[0m\u001b[0;31m`\u001b[0m\u001b[0;31m`\u001b[0m\u001b[0;34m.\u001b[0m\u001b[0;34m\u001b[0m\u001b[0m\n\u001b[1;32m     92\u001b[0m         \"\"\"\n\u001b[0;32m---> 93\u001b[0;31m         \u001b[0mtorch\u001b[0m\u001b[0;34m.\u001b[0m\u001b[0mautograd\u001b[0m\u001b[0;34m.\u001b[0m\u001b[0mbackward\u001b[0m\u001b[0;34m(\u001b[0m\u001b[0mself\u001b[0m\u001b[0;34m,\u001b[0m \u001b[0mgradient\u001b[0m\u001b[0;34m,\u001b[0m \u001b[0mretain_graph\u001b[0m\u001b[0;34m,\u001b[0m \u001b[0mcreate_graph\u001b[0m\u001b[0;34m)\u001b[0m\u001b[0;34m\u001b[0m\u001b[0m\n\u001b[0m\u001b[1;32m     94\u001b[0m \u001b[0;34m\u001b[0m\u001b[0m\n\u001b[1;32m     95\u001b[0m     \u001b[0;32mdef\u001b[0m \u001b[0mregister_hook\u001b[0m\u001b[0;34m(\u001b[0m\u001b[0mself\u001b[0m\u001b[0;34m,\u001b[0m \u001b[0mhook\u001b[0m\u001b[0;34m)\u001b[0m\u001b[0;34m:\u001b[0m\u001b[0;34m\u001b[0m\u001b[0m\n",
      "\u001b[0;32m~/anaconda3/envs/fastai/lib/python3.6/site-packages/torch/autograd/__init__.py\u001b[0m in \u001b[0;36mbackward\u001b[0;34m(tensors, grad_tensors, retain_graph, create_graph, grad_variables)\u001b[0m\n\u001b[1;32m     87\u001b[0m     Variable._execution_engine.run_backward(\n\u001b[1;32m     88\u001b[0m         \u001b[0mtensors\u001b[0m\u001b[0;34m,\u001b[0m \u001b[0mgrad_tensors\u001b[0m\u001b[0;34m,\u001b[0m \u001b[0mretain_graph\u001b[0m\u001b[0;34m,\u001b[0m \u001b[0mcreate_graph\u001b[0m\u001b[0;34m,\u001b[0m\u001b[0;34m\u001b[0m\u001b[0m\n\u001b[0;32m---> 89\u001b[0;31m         allow_unreachable=True)  # allow_unreachable flag\n\u001b[0m\u001b[1;32m     90\u001b[0m \u001b[0;34m\u001b[0m\u001b[0m\n\u001b[1;32m     91\u001b[0m \u001b[0;34m\u001b[0m\u001b[0m\n",
      "\u001b[0;31mKeyboardInterrupt\u001b[0m: "
     ]
    }
   ],
   "source": [
    "for epoch in range(epochs):\n",
    "    if epoch == 0: print(layout.format(*names))\n",
    "    val_it = iter(val_dl)\n",
    "    for i, (batch, ys) in enumerate(trn_dl, 0):\n",
    "        scheduler.batch_step()        \n",
    "        batch = Variable(batch.type(dtype))\n",
    "        ys = Variable(ys.type(dtype))\n",
    "        net.train()\n",
    "        pred = net(batch)\n",
    "        if one_hot:\n",
    "            ls = loss(pred, ys)\n",
    "        else:\n",
    "            ls = loss(pred, torch.unsqueeze(ys, dim=1))\n",
    "        optim.zero_grad()\n",
    "        ls.backward()\n",
    "        t_ls.append(ls.item())\n",
    "        optim.step()\n",
    "        vals = [np.mean(t_ls[-window:])]\n",
    "\n",
    "        if i % window == 0:\n",
    "            net.eval()\n",
    "            with torch.no_grad():\n",
    "                v_bat, v_ys = next(val_it)\n",
    "                \n",
    "                v_bat = Variable(v_bat.type(dtype))\n",
    "                v_ys = Variable(v_ys.type(dtype))\n",
    "                v = net(v_bat)\n",
    "                if one_hot:\n",
    "                    v_loss = loss(v,v_ys)\n",
    "                else:\n",
    "                    v_loss = loss(v, torch.unsqueeze(v_ys, dim=1))\n",
    "                v_ls.append(v_loss.item())\n",
    "                accs.append(accuracy(v, v_ys.long()))\n",
    "                \n",
    "#             vals.append(v_loss.item())\n",
    "            min_t_l = np.min(t_ls[-window:])\n",
    "            vals.extend((min_t_l, v_loss.item(), np.mean(accs[-window:])))\n",
    "#             vals.extend((v_loss.item(), np.mean(accs[-3:])))\n",
    "            print_stats(f\"{epoch+1} / {i+1}\",vals,4)\n",
    "    \n",
    "    save_checkpoint('Cryptkeeper', False)\n",
    "    ep_vals = append_stats(ep_vals, epoch+1, vals)"
   ]
  },
  {
   "cell_type": "code",
   "execution_count": 19,
   "metadata": {
    "collapsed": true
   },
   "outputs": [
    {
     "data": {
      "text/plain": [
       "[tensor(0.4000),\n",
       " tensor(0.7000),\n",
       " tensor(0.6000),\n",
       " tensor(0.8000),\n",
       " tensor(0.7000),\n",
       " tensor(0.4000),\n",
       " tensor(0.7000),\n",
       " tensor(0.5000),\n",
       " tensor(0.5000),\n",
       " tensor(0.6000),\n",
       " tensor(0.4000)]"
      ]
     },
     "execution_count": 19,
     "metadata": {},
     "output_type": "execute_result"
    }
   ],
   "source": [
    "# and accs[-1].detach() >= (accs[-2].detach()+(.2)) "
   ]
  },
  {
   "cell_type": "code",
   "execution_count": 159,
   "metadata": {},
   "outputs": [
    {
     "name": "stdout",
     "output_type": "stream",
     "text": [
      "Checkpoint saved.\n"
     ]
    }
   ],
   "source": [
    "save_checkpoint('Cryptkeeper', False)"
   ]
  },
  {
   "cell_type": "code",
   "execution_count": 69,
   "metadata": {},
   "outputs": [
    {
     "data": {
      "image/png": "[encoded data removed]",
      "text/plain": [
       "<matplotlib.figure.Figure at 0x7f8892646358>"
      ]
     },
     "metadata": {},
     "output_type": "display_data"
    }
   ],
   "source": [
    "data= t_ls[10:-5]\n",
    "x = range(len(data))\n",
    "y = data\n",
    "plt.title(f'{net.base}_{net.sub}_{net.n_layers}x{net.start_dim}')\n",
    "plt.plot(x, signal.savgol_filter(y,101,1))\n",
    "plt.show()"
   ]
  },
  {
   "cell_type": "code",
   "execution_count": 39,
   "metadata": {},
   "outputs": [
    {
     "ename": "ValueError",
     "evalue": "x and y must have same first dimension, but have shapes (9357,) and (6057,)",
     "output_type": "error",
     "traceback": [
      "\u001b[0;31m---------------------------------------------------------------------------\u001b[0m",
      "\u001b[0;31mValueError\u001b[0m                                Traceback (most recent call last)",
      "\u001b[0;32m<ipython-input-39-226ee234ba8f>\u001b[0m in \u001b[0;36m<module>\u001b[0;34m()\u001b[0m\n\u001b[1;32m      8\u001b[0m \u001b[0mx\u001b[0m \u001b[0;34m=\u001b[0m \u001b[0mrange\u001b[0m\u001b[0;34m(\u001b[0m\u001b[0mlen\u001b[0m\u001b[0;34m(\u001b[0m\u001b[0mdata2\u001b[0m\u001b[0;34m)\u001b[0m\u001b[0;34m)\u001b[0m\u001b[0;34m\u001b[0m\u001b[0m\n\u001b[1;32m      9\u001b[0m \u001b[0max\u001b[0m\u001b[0;34m.\u001b[0m\u001b[0mset_title\u001b[0m\u001b[0;34m(\u001b[0m\u001b[0;34mf'{net.base}_{net.sub}_{net.n_layers}x{net.start_dim}'\u001b[0m\u001b[0;34m)\u001b[0m\u001b[0;34m\u001b[0m\u001b[0m\n\u001b[0;32m---> 10\u001b[0;31m \u001b[0max\u001b[0m\u001b[0;34m.\u001b[0m\u001b[0mplot\u001b[0m\u001b[0;34m(\u001b[0m\u001b[0mx\u001b[0m\u001b[0;34m,\u001b[0m\u001b[0msignal\u001b[0m\u001b[0;34m.\u001b[0m\u001b[0msavgol_filter\u001b[0m\u001b[0;34m(\u001b[0m\u001b[0mdata\u001b[0m\u001b[0;34m,\u001b[0m\u001b[0mwin\u001b[0m\u001b[0;34m,\u001b[0m\u001b[0;36m1\u001b[0m\u001b[0;34m)\u001b[0m\u001b[0;34m)\u001b[0m\u001b[0;34m\u001b[0m\u001b[0m\n\u001b[0m\u001b[1;32m     11\u001b[0m \u001b[0mplt\u001b[0m\u001b[0;34m.\u001b[0m\u001b[0mshow\u001b[0m\u001b[0;34m(\u001b[0m\u001b[0;34m)\u001b[0m\u001b[0;34m\u001b[0m\u001b[0m\n",
      "\u001b[0;32m~/anaconda3/envs/fastai/lib/python3.6/site-packages/matplotlib/__init__.py\u001b[0m in \u001b[0;36minner\u001b[0;34m(ax, *args, **kwargs)\u001b[0m\n\u001b[1;32m   1715\u001b[0m                     warnings.warn(msg % (label_namer, func.__name__),\n\u001b[1;32m   1716\u001b[0m                                   RuntimeWarning, stacklevel=2)\n\u001b[0;32m-> 1717\u001b[0;31m             \u001b[0;32mreturn\u001b[0m \u001b[0mfunc\u001b[0m\u001b[0;34m(\u001b[0m\u001b[0max\u001b[0m\u001b[0;34m,\u001b[0m \u001b[0;34m*\u001b[0m\u001b[0margs\u001b[0m\u001b[0;34m,\u001b[0m \u001b[0;34m**\u001b[0m\u001b[0mkwargs\u001b[0m\u001b[0;34m)\u001b[0m\u001b[0;34m\u001b[0m\u001b[0m\n\u001b[0m\u001b[1;32m   1718\u001b[0m         \u001b[0mpre_doc\u001b[0m \u001b[0;34m=\u001b[0m \u001b[0minner\u001b[0m\u001b[0;34m.\u001b[0m\u001b[0m__doc__\u001b[0m\u001b[0;34m\u001b[0m\u001b[0m\n\u001b[1;32m   1719\u001b[0m         \u001b[0;32mif\u001b[0m \u001b[0mpre_doc\u001b[0m \u001b[0;32mis\u001b[0m \u001b[0;32mNone\u001b[0m\u001b[0;34m:\u001b[0m\u001b[0;34m\u001b[0m\u001b[0m\n",
      "\u001b[0;32m~/anaconda3/envs/fastai/lib/python3.6/site-packages/matplotlib/axes/_axes.py\u001b[0m in \u001b[0;36mplot\u001b[0;34m(self, *args, **kwargs)\u001b[0m\n\u001b[1;32m   1370\u001b[0m         \u001b[0mkwargs\u001b[0m \u001b[0;34m=\u001b[0m \u001b[0mcbook\u001b[0m\u001b[0;34m.\u001b[0m\u001b[0mnormalize_kwargs\u001b[0m\u001b[0;34m(\u001b[0m\u001b[0mkwargs\u001b[0m\u001b[0;34m,\u001b[0m \u001b[0m_alias_map\u001b[0m\u001b[0;34m)\u001b[0m\u001b[0;34m\u001b[0m\u001b[0m\n\u001b[1;32m   1371\u001b[0m \u001b[0;34m\u001b[0m\u001b[0m\n\u001b[0;32m-> 1372\u001b[0;31m         \u001b[0;32mfor\u001b[0m \u001b[0mline\u001b[0m \u001b[0;32min\u001b[0m \u001b[0mself\u001b[0m\u001b[0;34m.\u001b[0m\u001b[0m_get_lines\u001b[0m\u001b[0;34m(\u001b[0m\u001b[0;34m*\u001b[0m\u001b[0margs\u001b[0m\u001b[0;34m,\u001b[0m \u001b[0;34m**\u001b[0m\u001b[0mkwargs\u001b[0m\u001b[0;34m)\u001b[0m\u001b[0;34m:\u001b[0m\u001b[0;34m\u001b[0m\u001b[0m\n\u001b[0m\u001b[1;32m   1373\u001b[0m             \u001b[0mself\u001b[0m\u001b[0;34m.\u001b[0m\u001b[0madd_line\u001b[0m\u001b[0;34m(\u001b[0m\u001b[0mline\u001b[0m\u001b[0;34m)\u001b[0m\u001b[0;34m\u001b[0m\u001b[0m\n\u001b[1;32m   1374\u001b[0m             \u001b[0mlines\u001b[0m\u001b[0;34m.\u001b[0m\u001b[0mappend\u001b[0m\u001b[0;34m(\u001b[0m\u001b[0mline\u001b[0m\u001b[0;34m)\u001b[0m\u001b[0;34m\u001b[0m\u001b[0m\n",
      "\u001b[0;32m~/anaconda3/envs/fastai/lib/python3.6/site-packages/matplotlib/axes/_base.py\u001b[0m in \u001b[0;36m_grab_next_args\u001b[0;34m(self, *args, **kwargs)\u001b[0m\n\u001b[1;32m    402\u001b[0m                 \u001b[0mthis\u001b[0m \u001b[0;34m+=\u001b[0m \u001b[0margs\u001b[0m\u001b[0;34m[\u001b[0m\u001b[0;36m0\u001b[0m\u001b[0;34m]\u001b[0m\u001b[0;34m,\u001b[0m\u001b[0;34m\u001b[0m\u001b[0m\n\u001b[1;32m    403\u001b[0m                 \u001b[0margs\u001b[0m \u001b[0;34m=\u001b[0m \u001b[0margs\u001b[0m\u001b[0;34m[\u001b[0m\u001b[0;36m1\u001b[0m\u001b[0;34m:\u001b[0m\u001b[0;34m]\u001b[0m\u001b[0;34m\u001b[0m\u001b[0m\n\u001b[0;32m--> 404\u001b[0;31m             \u001b[0;32mfor\u001b[0m \u001b[0mseg\u001b[0m \u001b[0;32min\u001b[0m \u001b[0mself\u001b[0m\u001b[0;34m.\u001b[0m\u001b[0m_plot_args\u001b[0m\u001b[0;34m(\u001b[0m\u001b[0mthis\u001b[0m\u001b[0;34m,\u001b[0m \u001b[0mkwargs\u001b[0m\u001b[0;34m)\u001b[0m\u001b[0;34m:\u001b[0m\u001b[0;34m\u001b[0m\u001b[0m\n\u001b[0m\u001b[1;32m    405\u001b[0m                 \u001b[0;32myield\u001b[0m \u001b[0mseg\u001b[0m\u001b[0;34m\u001b[0m\u001b[0m\n\u001b[1;32m    406\u001b[0m \u001b[0;34m\u001b[0m\u001b[0m\n",
      "\u001b[0;32m~/anaconda3/envs/fastai/lib/python3.6/site-packages/matplotlib/axes/_base.py\u001b[0m in \u001b[0;36m_plot_args\u001b[0;34m(self, tup, kwargs)\u001b[0m\n\u001b[1;32m    382\u001b[0m             \u001b[0mx\u001b[0m\u001b[0;34m,\u001b[0m \u001b[0my\u001b[0m \u001b[0;34m=\u001b[0m \u001b[0mindex_of\u001b[0m\u001b[0;34m(\u001b[0m\u001b[0mtup\u001b[0m\u001b[0;34m[\u001b[0m\u001b[0;34m-\u001b[0m\u001b[0;36m1\u001b[0m\u001b[0;34m]\u001b[0m\u001b[0;34m)\u001b[0m\u001b[0;34m\u001b[0m\u001b[0m\n\u001b[1;32m    383\u001b[0m \u001b[0;34m\u001b[0m\u001b[0m\n\u001b[0;32m--> 384\u001b[0;31m         \u001b[0mx\u001b[0m\u001b[0;34m,\u001b[0m \u001b[0my\u001b[0m \u001b[0;34m=\u001b[0m \u001b[0mself\u001b[0m\u001b[0;34m.\u001b[0m\u001b[0m_xy_from_xy\u001b[0m\u001b[0;34m(\u001b[0m\u001b[0mx\u001b[0m\u001b[0;34m,\u001b[0m \u001b[0my\u001b[0m\u001b[0;34m)\u001b[0m\u001b[0;34m\u001b[0m\u001b[0m\n\u001b[0m\u001b[1;32m    385\u001b[0m \u001b[0;34m\u001b[0m\u001b[0m\n\u001b[1;32m    386\u001b[0m         \u001b[0;32mif\u001b[0m \u001b[0mself\u001b[0m\u001b[0;34m.\u001b[0m\u001b[0mcommand\u001b[0m \u001b[0;34m==\u001b[0m \u001b[0;34m'plot'\u001b[0m\u001b[0;34m:\u001b[0m\u001b[0;34m\u001b[0m\u001b[0m\n",
      "\u001b[0;32m~/anaconda3/envs/fastai/lib/python3.6/site-packages/matplotlib/axes/_base.py\u001b[0m in \u001b[0;36m_xy_from_xy\u001b[0;34m(self, x, y)\u001b[0m\n\u001b[1;32m    241\u001b[0m         \u001b[0;32mif\u001b[0m \u001b[0mx\u001b[0m\u001b[0;34m.\u001b[0m\u001b[0mshape\u001b[0m\u001b[0;34m[\u001b[0m\u001b[0;36m0\u001b[0m\u001b[0;34m]\u001b[0m \u001b[0;34m!=\u001b[0m \u001b[0my\u001b[0m\u001b[0;34m.\u001b[0m\u001b[0mshape\u001b[0m\u001b[0;34m[\u001b[0m\u001b[0;36m0\u001b[0m\u001b[0;34m]\u001b[0m\u001b[0;34m:\u001b[0m\u001b[0;34m\u001b[0m\u001b[0m\n\u001b[1;32m    242\u001b[0m             raise ValueError(\"x and y must have same first dimension, but \"\n\u001b[0;32m--> 243\u001b[0;31m                              \"have shapes {} and {}\".format(x.shape, y.shape))\n\u001b[0m\u001b[1;32m    244\u001b[0m         \u001b[0;32mif\u001b[0m \u001b[0mx\u001b[0m\u001b[0;34m.\u001b[0m\u001b[0mndim\u001b[0m \u001b[0;34m>\u001b[0m \u001b[0;36m2\u001b[0m \u001b[0;32mor\u001b[0m \u001b[0my\u001b[0m\u001b[0;34m.\u001b[0m\u001b[0mndim\u001b[0m \u001b[0;34m>\u001b[0m \u001b[0;36m2\u001b[0m\u001b[0;34m:\u001b[0m\u001b[0;34m\u001b[0m\u001b[0m\n\u001b[1;32m    245\u001b[0m             raise ValueError(\"x and y can be no greater than 2-D, but have \"\n",
      "\u001b[0;31mValueError\u001b[0m: x and y must have same first dimension, but have shapes (9357,) and (6057,)"
     ]
    },
    {
     "data": {
      "image/png": "[encoded data removed]",
      "text/plain": [
       "<matplotlib.figure.Figure at 0x7f88950c44e0>"
      ]
     },
     "metadata": {},
     "output_type": "display_data"
    }
   ],
   "source": [
    "win = 1001\n",
    "ax = plt.subplot('121')\n",
    "ax.set_title(f'{net.base}_{net.sub}_{net.n_layers}x{net.start_dim}')\n",
    "ax.plot(range(len(y)),signal.savgol_filter(y, win, 1))\n",
    "\n",
    "ax =plt.subplot('122')\n",
    "data2= t_ls[:len(data2)]\n",
    "x = range(len(data2))\n",
    "ax.set_title(f'{net.base}_{net.sub}_{net.n_layers}x{net.start_dim}')\n",
    "ax.plot(x,signal.savgol_filter(data,win,1))\n",
    "plt.show()"
   ]
  },
  {
   "cell_type": "code",
   "execution_count": null,
   "metadata": {},
   "outputs": [],
   "source": [
    "fig, (ax1, ax2) = plt.subplots(ncols=2, sharey=True)\n",
    "ax1.set_title(f'{net.base}_{net.sub}_{net.n_layers}x{net.start_dim}')\n",
    "ax1.plot(range(len()))"
   ]
  },
  {
   "cell_type": "code",
   "execution_count": 190,
   "metadata": {},
   "outputs": [
    {
     "data": {
      "image/png": "[encoded data removed]",
      "text/plain": [
       "<matplotlib.figure.Figure at 0x7effad248b70>"
      ]
     },
     "metadata": {},
     "output_type": "display_data"
    }
   ],
   "source": [
    "data= t_ls[10:-5]\n",
    "x = range(len(data))\n",
    "y = data\n",
    "\n",
    "plt.plot(x, signal.savgol_filter(y,1001,5))\n",
    "plt.show()"
   ]
  },
  {
   "cell_type": "code",
   "execution_count": 40,
   "metadata": {},
   "outputs": [
    {
     "data": {
      "image/png": "[encoded data removed]",
      "text/plain": [
       "<matplotlib.figure.Figure at 0x7f88949b1320>"
      ]
     },
     "metadata": {},
     "output_type": "display_data"
    }
   ],
   "source": [
    "data= t_ls[:-5]\n",
    "x = range(len(data))\n",
    "y = data\n",
    "plt.plot(x, signal.savgol_filter(y,1001,5))\n",
    "plt.show()"
   ]
  },
  {
   "cell_type": "code",
   "execution_count": 66,
   "metadata": {},
   "outputs": [
    {
     "data": {
      "image/png": "[encoded data removed]",
      "text/plain": [
       "<matplotlib.figure.Figure at 0x7effaf589cf8>"
      ]
     },
     "metadata": {},
     "output_type": "display_data"
    }
   ],
   "source": [
    "data= t_ls[10:-5]\n",
    "x = range(len(data))\n",
    "y = data\n",
    "\n",
    "plt.plot(x, signal.savgol_filter(y,1001,5))\n",
    "plt.show()"
   ]
  },
  {
   "cell_type": "code",
   "execution_count": null,
   "metadata": {},
   "outputs": [],
   "source": []
  }
 ],
 "metadata": {
  "kernelspec": {
   "display_name": "Python 3",
   "language": "python",
   "name": "python3"
  },
  "language_info": {
   "codemirror_mode": {
    "name": "ipython",
    "version": 3
   },
   "file_extension": ".py",
   "mimetype": "text/x-python",
   "name": "python",
   "nbconvert_exporter": "python",
   "pygments_lexer": "ipython3",
   "version": "3.6.4"
  }
 },
 "nbformat": 4,
 "nbformat_minor": 2
}
