{
 "cells": [
  {
   "cell_type": "code",
   "execution_count": 1,
   "metadata": {},
   "outputs": [],
   "source": [
    "#https://www.youtube.com/watch?v=ne-dpRdNReI\n",
    "import torch\n",
    "import torch.nn as nn\n",
    "from torch.autograd import Variable\n",
    "import torch.nn.functional as F\n",
    "import pandas as pd\n",
    "import numpy as np\n",
    "from pathlib import Path\n",
    "from sklearn import preprocessing\n",
    "from collections import deque, OrderedDict\n",
    "import random\n",
    "import fastai\n",
    "from utils.pydataset import *\n",
    "from utils.clr import *\n",
    "from utils.pydataset import *\n",
    "from fastai.dataloader import *\n",
    "\n",
    "import matplotlib.pyplot as plt\n",
    "from scipy import signal\n",
    "%matplotlib inline\n",
    "# from fastai.old.fastai.column_data import *\n",
    "# from fastai.metrics import accuracy"
   ]
  },
  {
   "cell_type": "code",
   "execution_count": 316,
   "metadata": {
    "scrolled": true
   },
   "outputs": [
    {
     "name": "stdout",
     "output_type": "stream",
     "text": [
      "True\n"
     ]
    }
   ],
   "source": [
    "use_cuda = torch.cuda.is_available(); print(use_cuda)\n",
    "device = torch.device(\"cuda:0\" if use_cuda else \"cpu\")\n",
    "torch.backends.cudnn.benchmark = True\n",
    "CUDA_LAUNCH_BLOCKING=1"
   ]
  },
  {
   "cell_type": "code",
   "execution_count": 2,
   "metadata": {},
   "outputs": [],
   "source": [
    "PATH = Path(\"../data\")\n",
    "sets = [\"BTC-USD\", \"BCH-USD\", \"ETH-USD\", \"LTC-USD\"]\n",
    "wash = False"
   ]
  },
  {
   "cell_type": "code",
   "execution_count": 3,
   "metadata": {},
   "outputs": [],
   "source": [
    "seq_len = 60 #transactions prior to prediction point\n",
    "pred_period = 2 #minutes ahead to predict \n",
    "pred_ratio = \"LTC-USD\"\n",
    "val_pct = .1\n",
    "bs = 20\n",
    "epochs = 20"
   ]
  },
  {
   "cell_type": "code",
   "execution_count": 4,
   "metadata": {},
   "outputs": [],
   "source": [
    "def prep_df(df):\n",
    "    df = df.copy().drop(\"future\",1)\n",
    "    \n",
    "    for col in df.columns:\n",
    "        if col != \"target\":\n",
    "            df[col] = df[col].pct_change()\n",
    "            df.dropna(inplace=True)\n",
    "            df[col] = preprocessing.scale(df[col].values)\n",
    "    sequential_data = []\n",
    "    prev_period = deque(maxlen=seq_len)\n",
    "    buys = []\n",
    "    sells = []\n",
    "    for i in df.values:\n",
    "        prev_period.append([n for n in i[:-1]])\n",
    "        if len(prev_period) == seq_len:\n",
    "#             sequential_data.append([np.array(prev_period), i[-1]])\n",
    "            if i[-1] == 0:\n",
    "                sells.append([np.array(prev_period),np.array(i[-1])])\n",
    "            elif i[-1] == 1:\n",
    "                buys.append([np.array(prev_period),np.array(i[-1])])\n",
    "    print(len(buys),len(sells))\n",
    "    lower = min(len(buys), len(sells))\n",
    "    buys = buys[:lower-1]\n",
    "    sells = sells[:lower-1]\n",
    "    balanced = buys+sells\n",
    "    random.shuffle(balanced)\n",
    "    data = OrderedDict()\n",
    "    labels = OrderedDict()\n",
    "    for i, (seq, targ) in enumerate(balanced):\n",
    "        data[i] = seq\n",
    "        labels[i] =targ\n",
    "    print(f\"Total: {len(balanced)}, Buys: {len(buys)}, Sells: {len(sells)}\")\n",
    "    \n",
    "    return data, labels\n",
    "\n",
    "def classify(current, future):\n",
    "    if float(future) > float(current):\n",
    "        return 1\n",
    "    else:\n",
    "        return 0"
   ]
  },
  {
   "cell_type": "code",
   "execution_count": 5,
   "metadata": {
    "scrolled": true
   },
   "outputs": [],
   "source": [
    "if wash:\n",
    "    df_s = [pd.read_csv(PATH / f\"{s}.csv\",\n",
    "                        names = [\"time\",\"low\",\"high\",\"open\",f\"{s}_close\",f\"{s}_volume\"],\n",
    "                        index_col=[\"time\"]).drop([\"low\",\"high\",\"open\"], axis=1) for s in sets]\n",
    "    df_m = pd.concat(df_s, axis=1, join=\"inner\")\n",
    "    \n",
    "    df_m[\"future\"] = df_m[f\"{pred_ratio}_close\"].shift(-pred_period)\n",
    "    df_m[\"future\"].fillna(method=\"ffill\",inplace=True)\n",
    "    df_m[\"target\"] = list(map(classify,df_m[f\"{pred_ratio}_close\"],df_m[\"future\"]))\n",
    "    df_m.sort_index(inplace=True)\n",
    "    val_idx = int(len(df_m) * val_pct)\n",
    "    df_v = df_m.iloc[-val_idx:].copy()\n",
    "    df_t = df_m.iloc[:-val_idx].copy()\n",
    "    \n",
    "    train_x, train_y = prep_df(df_t)\n",
    "    val_x, val_y = prep_df(df_v)\n",
    "    \n",
    "    qdf = pd.DataFrame([train_x, train_y]).T\n",
    "    qdf.to_pickle(PATH / f'T_proc_crypto_{seq_len}_{val_pct * 100}.pkl')\n",
    "    qdf = pd.DataFrame([val_x, val_y]).T\n",
    "    qdf.to_pickle(PATH / f'V_proc_crypto_{seq_len}_{val_pct * 100}.pkl')\n",
    "else:\n",
    "    df_t= pd.read_pickle(PATH / f'T_proc_crypto_{seq_len}_{val_pct * 100}.pkl')\n",
    "    train_x = df_t.loc[:,0].to_dict(OrderedDict)\n",
    "    train_y = df_t.loc[:,1].to_dict(OrderedDict)\n",
    "    df_v =pd.read_pickle(PATH / f'V_proc_crypto_{seq_len}_{val_pct * 100}.pkl') \n",
    "    val_x = df_v.loc[:,0].to_dict(OrderedDict)\n",
    "    val_y = df_v.loc[:,1].to_dict(OrderedDict)"
   ]
  },
  {
   "cell_type": "code",
   "execution_count": 6,
   "metadata": {
    "scrolled": true
   },
   "outputs": [],
   "source": [
    "class Dataset(data.Dataset):\n",
    "    def __init__(self, data, labels):\n",
    "        super().__init__()\n",
    "        self.data = data\n",
    "        self.labels = labels\n",
    "        \n",
    "    def __len__(self):\n",
    "        return len(self.data)\n",
    "    \n",
    "    def __getitem__(self, idx):\n",
    "        return self.data[idx], self.labels[idx]"
   ]
  },
  {
   "cell_type": "code",
   "execution_count": 7,
   "metadata": {},
   "outputs": [],
   "source": [
    "trn_ds = Dataset(train_x, train_y)\n",
    "val_ds = Dataset(val_x, val_y)\n",
    "\n",
    "trn_dl = DataLoader(trn_ds, batch_size=bs)\n",
    "val_dl = DataLoader(val_ds, batch_size=bs)"
   ]
  },
  {
   "cell_type": "code",
   "execution_count": 9,
   "metadata": {},
   "outputs": [],
   "source": [
    "class GRU(nn.Module):\n",
    "    def __init__(self, h_dim, out_size):\n",
    "        super(GRU, self).__init__()\n",
    "        \n",
    "        self.h_dim = h_dim\n",
    "        self.out_sz = out_size\n",
    "        \n",
    "        self.gru = nn.GRU(8, self.h_dim)\n",
    "        self._lin1 = nn.Linear(self.h_dim * seq_len, self.out_sz)\n",
    "        \n",
    "    def forward(self, input):\n",
    "        hidden = self.initHidden(input.shape[1])\n",
    "        _, hn = self.gru(input, hidden)\n",
    "        ## from (1, N, hidden) to (N, hidden)\n",
    "        rearranged = hn.view(bs, -1)\n",
    "        out1 = self._lin1(rearranged)\n",
    "        return out1\n",
    "        \n",
    "    def initHidden(self, N):\n",
    "        return Variable(torch.randn(1, N, self.h_dim))"
   ]
  },
  {
   "cell_type": "code",
   "execution_count": 8,
   "metadata": {},
   "outputs": [],
   "source": [
    "class lstmclass(nn.Module):\n",
    "    def __init__(self,n_layers,h_dim,GRU=False):\n",
    "        super().__init__()\n",
    "        self.n_layers = n_layers\n",
    "        self.h_dim = h_dim\n",
    "        if GRU:\n",
    "            self.gru = nn.GRU(8, h_dim, n_layers,bias=False,batch_first=True)\n",
    "        else:\n",
    "            self.lstm = nn.LSTM(8, h_dim, n_layers, batch_first=True)\n",
    "            self.h_dim = h_dim * self.n_layers\n",
    "        self.subs = nn.ModuleList([\n",
    "                            nn.Linear(h_dim, h_dim//2),\n",
    "                            nn.Dropout(.2),\n",
    "                            nn.Linear(h_dim//2, h_dim//4),\n",
    "                            nn.Dropout(.1),\n",
    "                            nn.Linear(h_dim//4,1)])\n",
    "        \n",
    "    def forward(self, x):\n",
    "        h = self._init_hidden(x)\n",
    "        if self.gru:\n",
    "            x, h = self.gru(x, h[0])\n",
    "            x = h[0]\n",
    "        else:\n",
    "            x, h = self.lstm(x, h)\n",
    "            x = h[0].view(bs, self.h_dim * self.n_layers)\n",
    "            \n",
    "        for lay in self.subs:\n",
    "            x = lay(x)\n",
    "        x = F.sigmoid(x)\n",
    "        return x\n",
    "    \n",
    "    def _init_hidden(self, x):\n",
    "        return (Variable(torch.randn(self.n_layers, x.size()[0], self.h_dim)),\n",
    "                Variable(torch.randn(self.n_layers, x.size()[0], self.h_dim)))"
   ]
  },
  {
   "cell_type": "code",
   "execution_count": 11,
   "metadata": {},
   "outputs": [],
   "source": [
    "# class LSTM(nn.Module):\n",
    "#     def __init__(self,h_dim,h_layers):\n",
    "#         super().__init__()\n",
    "#         self.h_dim = h_dim\n",
    "#         self.h_layers = h_layers\n",
    "#         self.lstm = nn.LSTM(8,h_dim,h_layers,batch_first=True)\n",
    "#         self.lin1 = nn.Linear(h_dim, h_dim//2)\n",
    "#         self.bn = nn.BatchNorm1d(seq_len)\n",
    "#         self.drop = nn.Dropout(.1)\n",
    "#         self.lin2 = nn.Linear(h_dim//2, 1)\n",
    "    \n",
    "#     def forward(self, x):\n",
    "#         hidden = Variable(torch.zeros(2,self.h_layers, x.size(0), self.h_dim).cuda())\n",
    "#         print(hidden.shape)\n",
    "#         self.lstm.flatten_parameters()\n",
    "#         return x\n",
    "#         x, h = self.lstm(x,hidden)\n",
    "#         x = x.contiguous().view(-1,np.prod(x.size()[1:]))\n",
    "#         x = self.lin1(x)\n",
    "#         x = F.relu(self.bn(x))\n",
    "#         x = self.drop(x)\n",
    "# #         x = x.view(bs,-1)\n",
    "#         x = F.softmax(self.lin2(x), dim=1)\n",
    "#         return x"
   ]
  },
  {
   "cell_type": "code",
   "execution_count": 15,
   "metadata": {},
   "outputs": [],
   "source": [
    "def append_stats(ep_vals, epoch, values, decimals=6):\n",
    "    ep_vals[epoch]=list(np.round(values, decimals))\n",
    "    return ep_vals\n",
    "\n",
    "def print_stats(epoch, values, decimals=3):\n",
    "    layout = \"{!s:^10}\" + \" {!s:10}\" * len(values)\n",
    "    values = [epoch] + list(np.round(values, decimals))\n",
    "    print(layout.format(*values))\n",
    "    \n",
    "def accuracy(input, targs):\n",
    "    \"Compute accuracy with `targs` when `input` is bs * n_classes.\"\n",
    "    n = targs.shape[0]\n",
    "    input = input.argmax(dim=1).view(n,-1)\n",
    "    targs = targs.view(n,-1)\n",
    "    return (input==targs).float().mean()\n",
    "\n",
    "# names = [\"ep / it\",\"trn_loss\",\"val_loss\"]\n",
    "names = [\"ep / it\", \"trn_loss\",\"lwst_trn\",\"val_loss\",\"accuracy\"]\n",
    "layout = \"{!s:10} \" * len(names)"
   ]
  },
  {
   "cell_type": "code",
   "execution_count": 18,
   "metadata": {},
   "outputs": [],
   "source": [
    "# net = GRU(64, 1)\n",
    "# net = LSTM(128,1)\n",
    "net = lstmclass(4,64, True)\n",
    "\n",
    "use_cuda=False\n",
    "if use_cuda:\n",
    "    net.cuda()\n",
    "lr = 2e-6\n",
    "\n",
    "optim = torch.optim.Adam(net.parameters(), lr=lr)\n",
    "loss = nn.MSELoss()\n",
    "window = 200\n",
    "scheduler = CyclicLR(optim, lr, step_size=len(trn_ds)*2, mode='triangular2')"
   ]
  },
  {
   "cell_type": "code",
   "execution_count": 14,
   "metadata": {},
   "outputs": [
    {
     "data": {
      "text/plain": [
       "torch.Size([10, 60, 64])"
      ]
     },
     "execution_count": 14,
     "metadata": {},
     "output_type": "execute_result"
    }
   ],
   "source": [
    "# batch, ys = next(iter(trn_dl))\n",
    "# h = (Variable(torch.zeros(1, bs, 64)),\n",
    "#           Variable(torch.zeros(1,bs, 64)))\n",
    "# tst1 = nn.LSTM(8, 64, 1, batch_first=True)\n",
    "\n",
    "# x, h = tst1(Variable(batch.float()), h)\n",
    "# x.shape"
   ]
  },
  {
   "cell_type": "code",
   "execution_count": 35,
   "metadata": {},
   "outputs": [
    {
     "data": {
      "text/plain": [
       "[(tensor([ 0.4628]), tensor(1.)),\n",
       " (tensor([ 0.8985]), tensor(1.)),\n",
       " (tensor([ 0.9149]), tensor(1.)),\n",
       " (tensor([ 0.1681]), tensor(1.)),\n",
       " (tensor([ 0.9868]), tensor(0.)),\n",
       " (tensor([ 0.6077]), tensor(0.)),\n",
       " (tensor([ 0.4122]), tensor(1.)),\n",
       " (tensor([ 0.6049]), tensor(1.)),\n",
       " (tensor([ 0.8046]), tensor(0.)),\n",
       " (tensor([ 0.7168]), tensor(1.)),\n",
       " (tensor([ 0.5092]), tensor(0.)),\n",
       " (tensor([ 0.8839]), tensor(1.)),\n",
       " (tensor([ 0.2126]), tensor(1.)),\n",
       " (tensor([ 0.2989]), tensor(0.)),\n",
       " (tensor([ 0.3471]), tensor(0.)),\n",
       " (tensor([ 0.7692]), tensor(0.)),\n",
       " (tensor([ 0.3033]), tensor(1.)),\n",
       " (tensor([ 0.3951]), tensor(1.)),\n",
       " (tensor([ 0.9235]), tensor(0.)),\n",
       " (tensor([ 0.3788]), tensor(1.))]"
      ]
     },
     "execution_count": 35,
     "metadata": {},
     "output_type": "execute_result"
    }
   ],
   "source": [
    "val_it = iter(val_dl)\n",
    "v_bat, v_ys = next(val_it)                \n",
    "v_bat = Variable(v_bat.type(dtype))\n",
    "v_ys = Variable(v_ys.type(dtype))\n",
    "net.eval()\n",
    "with torch.no_grad():\n",
    "    v = net(v_bat)\n",
    "list(zip(v,v_ys))"
   ]
  },
  {
   "cell_type": "code",
   "execution_count": 14,
   "metadata": {
    "scrolled": true
   },
   "outputs": [],
   "source": [
    "# checkpoint = torch.load(PATH / f\"checks/gru_{net.base}_{net.sub}_{net.n_layers}x{net.start_dim}_clr.pth.tar\")\n",
    "# if not net.gru.bias:\n",
    "#     keys = [ \"gru.bias_ih_l0\", \"gru.bias_hh_l0\", \"gru.bias_ih_l1\", \"gru.bias_hh_l1\"]\n",
    "#     for key in keys:\n",
    "#         del checkpoint['state_dict'][key]\n",
    "# net.load_state_dict(checkpoint['state_dict'])\n",
    "# optim.load_state_dict(checkpoint['optimizer'])\n",
    "# scheduler.load_dict(checkpoint['scheduler'])"
   ]
  },
  {
   "cell_type": "code",
   "execution_count": 13,
   "metadata": {},
   "outputs": [],
   "source": [
    "def save_checkpoint(name, is_best):\n",
    "    filename =f\"{name}_{net.n_layers}x{net.h_dim}_clr.pth.tar\"\n",
    "    state = {'epoch': epochs,\n",
    "            'last_epoch': epoch,\n",
    "            'arch': filename,\n",
    "            'state_dict': net.state_dict(),\n",
    "            'losses': [t_ls,v_ls],\n",
    "            'optimizer': optim.state_dict(),\n",
    "            'scheduler': scheduler.__dict__}\n",
    "\n",
    "    torch.save(state, PATH / f'checks/{filename}')\n",
    "    if is_best:\n",
    "        shutil.copyfile(filename, 'model_best.pth.tar')\n",
    "    print('Checkpoint saved.')"
   ]
  },
  {
   "cell_type": "code",
   "execution_count": 16,
   "metadata": {},
   "outputs": [],
   "source": [
    "t_ls = []\n",
    "v_ls = []\n",
    "accs = []\n",
    "ep_vals = OrderedDict()"
   ]
  },
  {
   "cell_type": "code",
   "execution_count": null,
   "metadata": {
    "scrolled": true
   },
   "outputs": [
    {
     "name": "stdout",
     "output_type": "stream",
     "text": [
      "ep / it    trn_loss   lwst_trn   val_loss   accuracy   \n",
      "  1 / 1    0.2098     0.1038     0.3699     0.4       \n",
      " 1 / 201   0.2087     0.118      0.3404     0.3       \n",
      " 1 / 401   0.2082     0.1274     0.2853     0.4       \n",
      " 1 / 601   0.2023     0.1184     0.2687     0.5       \n",
      " 1 / 801   0.2065     0.102      0.2756     0.55      \n",
      " 1 / 1001  0.208      0.1286     0.1982     0.5       \n",
      " 1 / 1201  0.1968     0.1082     0.2514     0.55      \n",
      " 1 / 1401  0.2099     0.1139     0.3173     0.65      \n",
      " 1 / 1601  0.2076     0.0861     0.2488     0.4       \n",
      " 1 / 1801  0.2088     0.1068     0.3693     0.5       \n",
      " 1 / 2001  0.2065     0.1077     0.3232     0.45      \n",
      " 1 / 2201  0.2144     0.1311     0.2763     0.35      \n",
      " 1 / 2401  0.209      0.0983     0.2408     0.4       \n",
      " 1 / 2601  0.2066     0.1334     0.308      0.55      \n",
      " 1 / 2801  0.2116     0.1286     0.269      0.5       \n",
      " 1 / 3001  0.2108     0.1189     0.3565     0.45      \n",
      "Checkpoint saved.\n",
      "  2 / 1    0.2057     0.1176     0.3419     0.4       \n",
      " 2 / 201   0.2084     0.1345     0.285      0.3       \n",
      " 2 / 401   0.2081     0.1398     0.2668     0.4       \n",
      " 2 / 601   0.2024     0.0888     0.2589     0.5       \n",
      " 2 / 801   0.2034     0.1241     0.3859     0.55      \n",
      " 2 / 1001  0.2114     0.1363     0.2398     0.5       \n",
      " 2 / 1201  0.1997     0.1135     0.2941     0.55      \n",
      " 2 / 1401  0.2094     0.1077     0.2589     0.65      \n",
      " 2 / 1601  0.2049     0.0848     0.2772     0.4       \n",
      " 2 / 1801  0.2085     0.1204     0.4111     0.5       \n",
      " 2 / 2001  0.2098     0.1148     0.3057     0.45      \n",
      " 2 / 2201  0.2136     0.1268     0.2531     0.35      \n",
      " 2 / 2401  0.2087     0.0821     0.2476     0.4       \n",
      " 2 / 2601  0.2059     0.1171     0.2975     0.55      \n",
      " 2 / 2801  0.2096     0.1166     0.3036     0.5       \n",
      " 2 / 3001  0.2085     0.1139     0.3626     0.45      \n",
      "Checkpoint saved.\n",
      "  3 / 1    0.2061     0.1176     0.3148     0.4       \n",
      " 3 / 201   0.2061     0.1179     0.307      0.3       \n",
      " 3 / 401   0.2089     0.1087     0.2529     0.4       \n",
      " 3 / 601   0.2007     0.1058     0.2352     0.5       \n",
      " 3 / 801   0.2019     0.1106     0.358      0.55      \n",
      " 3 / 1001  0.2103     0.1374     0.232      0.5       \n",
      " 3 / 1201  0.2003     0.112      0.2641     0.55      \n",
      " 3 / 1401  0.2091     0.1122     0.3117     0.65      \n",
      " 3 / 1601  0.2077     0.1162     0.2962     0.4       \n",
      " 3 / 1801  0.2107     0.1261     0.4207     0.5       \n",
      " 3 / 2001  0.205      0.1053     0.3073     0.45      \n",
      " 3 / 2201  0.211      0.1356     0.2085     0.35      \n",
      " 3 / 2401  0.21       0.1048     0.2529     0.4       \n",
      " 3 / 2601  0.2045     0.12       0.4012     0.55      \n",
      " 3 / 2801  0.2069     0.1271     0.3022     0.5       \n",
      " 3 / 3001  0.2071     0.1197     0.304      0.45      \n",
      "Checkpoint saved.\n",
      "  4 / 1    0.2062     0.118      0.3828     0.4       \n",
      " 4 / 201   0.2061     0.1226     0.2964     0.3       \n",
      " 4 / 401   0.2099     0.1313     0.2644     0.4       \n",
      " 4 / 601   0.2035     0.1169     0.2075     0.5       \n",
      " 4 / 801   0.2063     0.1192     0.2968     0.55      \n",
      " 4 / 1001  0.2108     0.1308     0.303      0.5       \n",
      " 4 / 1201  0.2045     0.1109     0.279      0.55      \n",
      " 4 / 1401  0.215      0.1245     0.2992     0.65      \n",
      " 4 / 1601  0.2089     0.1122     0.2353     0.4       \n",
      " 4 / 1801  0.2092     0.1082     0.2931     0.5       \n",
      " 4 / 2001  0.2079     0.1287     0.3241     0.45      \n",
      " 4 / 2201  0.2109     0.1189     0.2281     0.35      \n",
      " 4 / 2401  0.2078     0.1159     0.2293     0.4       \n",
      " 4 / 2601  0.21       0.0759     0.3078     0.55      \n",
      " 4 / 2801  0.21       0.1174     0.273      0.5       \n",
      " 4 / 3001  0.2071     0.0992     0.3696     0.45      \n",
      "Checkpoint saved.\n",
      "  5 / 1    0.2057     0.1257     0.2861     0.4       \n",
      " 5 / 201   0.2084     0.1183     0.3402     0.3       \n",
      " 5 / 401   0.2124     0.1275     0.2562     0.4       \n",
      " 5 / 601   0.2072     0.1054     0.2411     0.5       \n",
      " 5 / 801   0.2112     0.1245     0.2741     0.55      \n",
      " 5 / 1001  0.2137     0.1418     0.2661     0.5       \n",
      " 5 / 1201  0.2036     0.1075     0.244      0.55      \n",
      " 5 / 1401  0.2148     0.1143     0.3096     0.65      \n",
      " 5 / 1601  0.2099     0.109      0.268      0.4       \n",
      " 5 / 1801  0.2081     0.1024     0.385      0.5       \n",
      " 5 / 2001  0.2116     0.115      0.2673     0.45      \n",
      " 5 / 2201  0.2137     0.1177     0.2042     0.35      \n",
      " 5 / 2401  0.2115     0.0808     0.2436     0.4       \n",
      " 5 / 2601  0.2072     0.0953     0.3245     0.55      \n",
      " 5 / 2801  0.2094     0.1179     0.2554     0.5       \n",
      " 5 / 3001  0.2095     0.1118     0.3053     0.45      \n",
      "Checkpoint saved.\n",
      "  6 / 1    0.21       0.1108     0.3249     0.4       \n",
      " 6 / 201   0.2119     0.1327     0.3429     0.3       \n",
      " 6 / 401   0.2113     0.1423     0.2401     0.4       \n",
      " 6 / 601   0.2107     0.1233     0.1965     0.5       \n",
      " 6 / 801   0.2117     0.1328     0.3379     0.55      \n",
      " 6 / 1001  0.2162     0.1344     0.2895     0.5       \n",
      " 6 / 1201  0.2106     0.1188     0.3892     0.55      \n",
      " 6 / 1401  0.2205     0.1364     0.2756     0.65      \n",
      " 6 / 1601  0.22       0.1192     0.2113     0.4       \n",
      " 6 / 1801  0.2201     0.1251     0.3149     0.5       \n",
      " 6 / 2001  0.2156     0.1248     0.2976     0.45      \n",
      " 6 / 2201  0.2211     0.1437     0.1801     0.35      \n",
      " 6 / 2401  0.2169     0.1156     0.227      0.4       \n",
      " 6 / 2601  0.2224     0.1442     0.2719     0.55      \n",
      " 6 / 2801  0.2352     0.1816     0.2398     0.5       \n",
      " 6 / 3001  0.2376     0.1778     0.2381     0.45      \n",
      "Checkpoint saved.\n",
      "  7 / 1    0.2364     0.1569     0.2568     0.4       \n",
      " 7 / 201   0.2356     0.1569     0.2792     0.3       \n",
      " 7 / 401   0.2373     0.1662     0.241      0.4       \n",
      " 7 / 601   0.238      0.1741     0.2478     0.5       \n",
      " 7 / 801   0.2397     0.1765     0.234      0.55      \n",
      " 7 / 1001  0.2394     0.1833     0.2224     0.5       \n",
      " 7 / 1201  0.2372     0.1824     0.2634     0.55      \n",
      " 7 / 1401  0.2435     0.188      0.2514     0.65      \n",
      " 7 / 1601  0.2411     0.1961     0.2256     0.4       \n",
      " 7 / 1801  0.2392     0.1743     0.3116     0.5       \n",
      " 7 / 2001  0.2378     0.1755     0.2502     0.45      \n",
      " 7 / 2201  0.2411     0.1635     0.2396     0.35      \n",
      " 7 / 2401  0.2401     0.1531     0.2349     0.4       \n",
      " 7 / 2601  0.2399     0.1762     0.2699     0.55      \n",
      " 7 / 2801  0.2384     0.1731     0.2543     0.5       \n",
      " 7 / 3001  0.2408     0.1784     0.2505     0.45      \n",
      "Checkpoint saved.\n",
      "  8 / 1    0.2406     0.1889     0.2756     0.4       \n",
      " 8 / 201   0.2392     0.1428     0.2444     0.3       \n",
      " 8 / 401   0.2405     0.1919     0.3202     0.4       \n",
      " 8 / 601   0.2414     0.1597     0.228      0.5       \n",
      " 8 / 801   0.2402     0.1814     0.2401     0.55      \n",
      " 8 / 1001  0.2414     0.183      0.2205     0.5       \n",
      " 8 / 1201  0.2382     0.1845     0.2575     0.55      \n",
      " 8 / 1401  0.2444     0.1666     0.249      0.65      \n",
      " 8 / 1601  0.2436     0.1978     0.2526     0.4       \n",
      " 8 / 1801  0.2443     0.1949     0.2448     0.5       \n",
      " 8 / 2001  0.2431     0.1817     0.2582     0.45      \n",
      " 8 / 2201  0.2453     0.203      0.2366     0.35      \n",
      " 8 / 2401  0.2429     0.1861     0.2237     0.4       \n",
      " 8 / 2601  0.2422     0.1821     0.2529     0.55      \n",
      " 8 / 2801  0.2422     0.186      0.208      0.5       \n",
      " 8 / 3001  0.2432     0.1905     0.2381     0.45      \n",
      "Checkpoint saved.\n",
      "  9 / 1    0.2447     0.1915     0.2914     0.4       \n",
      " 9 / 201   0.2443     0.1883     0.2592     0.3       \n",
      " 9 / 401   0.2451     0.1869     0.261      0.4       \n",
      " 9 / 601   0.2437     0.1979     0.2368     0.5       \n",
      " 9 / 801   0.2422     0.1909     0.2427     0.55      \n",
      " 9 / 1001  0.2448     0.2041     0.2032     0.5       \n",
      " 9 / 1201  0.24       0.184      0.2571     0.55      \n",
      " 9 / 1401  0.2469     0.2059     0.2407     0.65      \n",
      " 9 / 1601  0.2438     0.1791     0.2391     0.4       \n",
      " 9 / 1801  0.2455     0.1954     0.2323     0.5       \n",
      " 9 / 2001  0.2447     0.1948     0.2538     0.45      \n",
      " 9 / 2201  0.2464     0.2023     0.2327     0.35      \n",
      " 9 / 2401  0.2443     0.1765     0.2435     0.4       \n",
      " 9 / 2601  0.2445     0.1961     0.2382     0.55      \n",
      " 9 / 2801  0.2437     0.145      0.2116     0.5       \n",
      " 9 / 3001  0.2453     0.1879     0.2584     0.45      \n",
      "Checkpoint saved.\n",
      "  10 / 1   0.2456     0.1879     0.2996     0.4       \n"
     ]
    },
    {
     "name": "stdout",
     "output_type": "stream",
     "text": [
      " 10 / 201  0.246      0.1853     0.2515     0.3       \n",
      " 10 / 401  0.2478     0.2085     0.2472     0.4       \n",
      " 10 / 601  0.2467     0.1943     0.2521     0.5       \n",
      " 10 / 801  0.2469     0.1966     0.2411     0.55      \n",
      "10 / 1001  0.2471     0.2057     0.2334     0.5       \n",
      "10 / 1201  0.2448     0.2084     0.2561     0.55      \n",
      "10 / 1401  0.2478     0.2091     0.2314     0.65      \n",
      "10 / 1601  0.2471     0.176      0.2272     0.4       \n",
      "10 / 1801  0.2483     0.201      0.2353     0.5       \n",
      "10 / 2001  0.2473     0.2078     0.2381     0.45      \n",
      "10 / 2201  0.2457     0.1923     0.2362     0.35      \n",
      "10 / 2401  0.2464     0.1989     0.2345     0.4       \n",
      "10 / 2601  0.2453     0.2003     0.2275     0.55      \n",
      "10 / 2801  0.2445     0.185      0.2488     0.5       \n",
      "10 / 3001  0.2481     0.1815     0.2523     0.45      \n",
      "Checkpoint saved.\n",
      "  11 / 1   0.2451     0.199      0.2889     0.4       \n",
      " 11 / 201  0.2455     0.1969     0.2603     0.3       \n",
      " 11 / 401  0.2484     0.2127     0.2511     0.4       \n",
      " 11 / 601  0.2466     0.2036     0.2482     0.5       \n",
      " 11 / 801  0.2463     0.2056     0.2214     0.55      \n",
      "11 / 1001  0.2469     0.2044     0.2338     0.5       \n",
      "11 / 1201  0.2434     0.1819     0.268      0.55      \n",
      "11 / 1401  0.2489     0.2091     0.2394     0.65      \n",
      "11 / 1601  0.2474     0.2042     0.2342     0.4       \n",
      "11 / 1801  0.2477     0.1989     0.2553     0.5       \n",
      "11 / 2001  0.2477     0.2142     0.2569     0.45      \n",
      "11 / 2201  0.2464     0.199      0.2324     0.35      \n",
      "11 / 2401  0.2448     0.1926     0.2271     0.4       \n",
      "11 / 2601  0.247      0.2049     0.2401     0.55      \n",
      "11 / 2801  0.2445     0.1839     0.2394     0.5       \n",
      "11 / 3001  0.2467     0.198      0.249      0.45      \n",
      "Checkpoint saved.\n",
      "  12 / 1   0.2457     0.1973     0.2555     0.4       \n",
      " 12 / 201  0.2469     0.201      0.2558     0.3       \n",
      " 12 / 401  0.2473     0.2        0.2496     0.4       \n",
      " 12 / 601  0.2477     0.2068     0.2464     0.5       \n",
      " 12 / 801  0.2479     0.206      0.2378     0.55      \n",
      "12 / 1001  0.2464     0.2049     0.2132     0.5       \n",
      "12 / 1201  0.244      0.1759     0.267      0.55      \n",
      "12 / 1401  0.2486     0.2131     0.2315     0.65      \n",
      "12 / 1601  0.2479     0.1986     0.2293     0.4       \n",
      "12 / 1801  0.2478     0.2154     0.2516     0.5       \n",
      "12 / 2001  0.2469     0.2016     0.261      0.45      \n",
      "12 / 2201  0.2477     0.2069     0.2398     0.35      \n",
      "12 / 2401  0.2473     0.2045     0.2439     0.4       \n",
      "12 / 2601  0.2461     0.2008     0.2313     0.55      \n",
      "12 / 2801  0.2468     0.1838     0.2428     0.5       \n",
      "12 / 3001  0.2484     0.2083     0.2475     0.45      \n"
     ]
    }
   ],
   "source": [
    "for epoch in range(epochs):\n",
    "    if epoch == 0: print(layout.format(*names))\n",
    "    val_it = iter(val_dl)\n",
    "    for i, (batch, ys) in enumerate(trn_dl, 0):\n",
    "        scheduler.batch_step()\n",
    "        if use_cuda:\n",
    "            dtype = torch.cuda.FloatTensor\n",
    "        else:\n",
    "            dtype = torch.FloatTensor\n",
    "        \n",
    "        batch = Variable(batch.type(dtype))\n",
    "        ys = Variable(ys.type(dtype))\n",
    "        net.train()\n",
    "        pred = net(batch)\n",
    "#         ls = loss(pred, ys)\n",
    "        ls = loss(pred, torch.unsqueeze(ys, dim=1))\n",
    "        optim.zero_grad()\n",
    "        ls.backward()\n",
    "        t_ls.append(ls.item())\n",
    "        optim.step()\n",
    "        vals = [np.mean(t_ls[-window:])]\n",
    "\n",
    "        if i % window == 0:\n",
    "            net.eval()\n",
    "            with torch.no_grad():\n",
    "                v_bat, v_ys = next(val_it)\n",
    "                \n",
    "                v_bat = Variable(v_bat.type(dtype))\n",
    "                v_ys = Variable(v_ys.type(dtype))\n",
    "                v = net(v_bat)\n",
    "                v_loss = loss(v, torch.unsqueeze(v_ys, dim=1))\n",
    "                v_ls.append(v_loss.item())\n",
    "                accs.append(accuracy(v, v_ys.long()))\n",
    "                \n",
    "#             vals.append(v_loss.item())\n",
    "            min_t_l = np.min(t_ls[-window:])\n",
    "            vals.extend((min_t_l, v_loss.item(), accs[-1]))\n",
    "#             vals.extend((v_loss.item(), np.mean(accs[-3:])))\n",
    "            print_stats(f\"{epoch+1} / {i+1}\",vals,4)\n",
    "    \n",
    "    save_checkpoint('gru', False)\n",
    "    ep_vals = append_stats(ep_vals, epoch+1, vals)"
   ]
  },
  {
   "cell_type": "code",
   "execution_count": 34,
   "metadata": {},
   "outputs": [
    {
     "data": {
      "image/png": "[encoded data removed]",
      "text/plain": [
       "<matplotlib.figure.Figure at 0x7f314fad6080>"
      ]
     },
     "metadata": {},
     "output_type": "display_data"
    }
   ],
   "source": [
    "# data= t_ls[10:-5]\n",
    "x = range(len(data))\n",
    "y = data\n",
    "\n",
    "plt.plot(x, signal.savgol_filter(y,1001,1))\n",
    "plt.show()"
   ]
  },
  {
   "cell_type": "code",
   "execution_count": 32,
   "metadata": {},
   "outputs": [
    {
     "data": {
      "image/png": "[encoded data removed]",
      "text/plain": [
       "<matplotlib.figure.Figure at 0x7f3150685588>"
      ]
     },
     "metadata": {},
     "output_type": "display_data"
    }
   ],
   "source": [
    "data= t_ls[:-5]\n",
    "x = range(len(data))\n",
    "y = data\n",
    "\n",
    "plt.plot(x, signal.savgol_filter(y,1001,5))\n",
    "plt.show()"
   ]
  },
  {
   "cell_type": "code",
   "execution_count": 30,
   "metadata": {},
   "outputs": [
    {
     "data": {
      "image/png": "[encoded data removed]",
      "text/plain": [
       "<matplotlib.figure.Figure at 0x7f314f8f9160>"
      ]
     },
     "metadata": {},
     "output_type": "display_data"
    }
   ],
   "source": [
    "data= t_ls[-10000:]\n",
    "x = range(len(data))\n",
    "y = data\n",
    "\n",
    "plt.plot(x, signal.savgol_filter(y,1001,2))\n",
    "plt.show()"
   ]
  },
  {
   "cell_type": "code",
   "execution_count": null,
   "metadata": {},
   "outputs": [],
   "source": []
  }
 ],
 "metadata": {
  "kernelspec": {
   "display_name": "Python 3",
   "language": "python",
   "name": "python3"
  },
  "language_info": {
   "codemirror_mode": {
    "name": "ipython",
    "version": 3
   },
   "file_extension": ".py",
   "mimetype": "text/x-python",
   "name": "python",
   "nbconvert_exporter": "python",
   "pygments_lexer": "ipython3",
   "version": "3.6.4"
  }
 },
 "nbformat": 4,
 "nbformat_minor": 2
}
